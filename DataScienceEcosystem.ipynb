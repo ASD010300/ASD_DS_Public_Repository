{
 "cells": [
  {
   "cell_type": "markdown",
   "id": "72f252b4-53bb-4a13-a057-713d4e47b913",
   "metadata": {},
   "source": [
    "# Data Science Tools and Ecosystem"
   ]
  },
  {
   "cell_type": "markdown",
   "id": "2b17b6bf-20fc-43f5-8547-c7ce5d47140e",
   "metadata": {},
   "source": [
    "In this notebook, Data Science Tools and Ecosystem are summarized"
   ]
  },
  {
   "cell_type": "markdown",
   "id": "52f531c2-13fa-48ad-b96c-f0708c64ea87",
   "metadata": {},
   "source": [
    "<b> Objectives: <b>\n",
    "    <ul>\n",
    "<li>List popular languages in Data Science</li>\n",
    "<li>List common libraries used in Data Science</li>\n",
    "<li>Practice using Jupyter Notebooks and relevant syntax to communicate ideas</li>\n",
    "</ul>"
   ]
  },
  {
   "cell_type": "markdown",
   "id": "5be34cf0-91d1-4213-a805-17b0eb18074a",
   "metadata": {},
   "source": [
    "Some of the popular languages that Data Scientists use are:\n",
    "1. Python\n",
    "2. R\n",
    "3. SQL"
   ]
  },
  {
   "cell_type": "markdown",
   "id": "f64c966c-8fa5-42fa-9424-d46fc09f58ef",
   "metadata": {},
   "source": [
    "Some of the commonly used libraries used by Data Scientists include:\n",
    "1. TensorFlow\n",
    "2. SciPy\n",
    "3. PyTorch"
   ]
  },
  {
   "cell_type": "markdown",
   "id": "138f08d6-4e55-43d1-8dd0-68732470606a",
   "metadata": {},
   "source": [
    "| Data Science Tools |\n",
    "|:------------------:|\n",
    "| Apache Spark |\n",
    "| RStudio |\n",
    "| Pandas |"
   ]
  },
  {
   "cell_type": "markdown",
   "id": "99eac082-6d83-4de4-9cd4-c0ea504d99e4",
   "metadata": {},
   "source": [
    "### Below are a few examples of evaluating arithmetic expressions in Python"
   ]
  },
  {
   "cell_type": "code",
   "execution_count": 1,
   "id": "333db909-b38e-4eeb-bb38-4adb8874edbb",
   "metadata": {
    "tags": []
   },
   "outputs": [
    {
     "data": {
      "text/plain": [
       "17"
      ]
     },
     "execution_count": 1,
     "metadata": {},
     "output_type": "execute_result"
    }
   ],
   "source": [
    "#This a simple arithmetic expression to mutiply then add integers\n",
    "(3*4)+5"
   ]
  },
  {
   "cell_type": "code",
   "execution_count": 2,
   "id": "f4af9849-d6ed-404e-8575-466a0b326af9",
   "metadata": {
    "tags": []
   },
   "outputs": [
    {
     "name": "stdout",
     "output_type": "stream",
     "text": [
      "3.3333333333333335\n"
     ]
    }
   ],
   "source": [
    "#This will convert 200 minutes to hours by diving by 60\n",
    "\n",
    "Minutes = 200\n",
    "MinToHrsConversion = 1/60\n",
    "\n",
    "Hours = Minutes * MinToHrsConversion\n",
    "\n",
    "print(Hours)\n"
   ]
  },
  {
   "cell_type": "markdown",
   "id": "ad69a1c9-411d-400b-8f1c-d07887e0dcae",
   "metadata": {},
   "source": [
    "## Author\n",
    "Andrew Dominguez"
   ]
  },
  {
   "cell_type": "code",
   "execution_count": null,
   "id": "7ba835cd-07af-4000-9aeb-25741651f28a",
   "metadata": {},
   "outputs": [],
   "source": []
  }
 ],
 "metadata": {
  "kernelspec": {
   "display_name": "Python 3 (ipykernel)",
   "language": "python",
   "name": "python3"
  },
  "language_info": {
   "codemirror_mode": {
    "name": "ipython",
    "version": 3
   },
   "file_extension": ".py",
   "mimetype": "text/x-python",
   "name": "python",
   "nbconvert_exporter": "python",
   "pygments_lexer": "ipython3",
   "version": "3.11.4"
  }
 },
 "nbformat": 4,
 "nbformat_minor": 5
}
